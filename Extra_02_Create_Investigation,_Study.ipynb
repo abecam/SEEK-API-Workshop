{
  "cells": [
    {
      "cell_type": "markdown",
      "metadata": {
        "colab_type": "text",
        "id": "sK9AhZBoXeC3"
      },
      "source": [
        "# Registering new content\n",
        "\n",
        "Shows how to register a new Investigation and Study and link them together"
      ]
    },
    {
      "cell_type": "code",
      "execution_count": null,
      "metadata": {
        "colab": {},
        "colab_type": "code",
        "id": "YxeN3o-JURzD"
      },
      "outputs": [],
      "source": [
        "import requests\n",
        "import json\n",
        "import string\n",
        "\n",
        "import getpass"
      ]
    },
    {
      "cell_type": "code",
      "execution_count": null,
      "metadata": {
        "colab": {},
        "colab_type": "code",
        "id": "0XxWL9HSUgxr"
      },
      "outputs": [],
      "source": [
        "base_url = 'https://sandbox9.fairdomhub.org'"
      ]
    },
    {
      "cell_type": "markdown",
      "metadata": {
        "colab_type": "text",
        "id": "Pc00SCABX8ss"
      },
      "source": [
        "We also provide the content type for the headers, this lets SEEK know the content will be of the type *application/vnd.api+json*\n",
        "\n",
        "Also need to authenticate as a registered user to be able to create content."
      ]
    },
    {
      "cell_type": "code",
      "execution_count": null,
      "metadata": {
        "colab": {},
        "colab_type": "code",
        "id": "oQUu1F95UjcS"
      },
      "outputs": [],
      "source": [
        "headers = {\"Content-type\": \"application/vnd.api+json\",\n",
        "           \"Accept\": \"application/vnd.api+json\",\n",
        "           \"Accept-Charset\": \"ISO-8859-1\"}\n",
        "\n",
        "session = requests.Session()\n",
        "session.headers.update(headers)\n",
        "session.auth = (input('Username:'), getpass.getpass('Password'))"
      ]
    },
    {
      "cell_type": "code",
      "execution_count": null,
      "metadata": {
        "colab": {},
        "colab_type": "code",
        "id": "H22YJXFwUw6R"
      },
      "outputs": [],
      "source": [
        "containing_project_id = 8"
      ]
    },
    {
      "cell_type": "markdown",
      "metadata": {
        "colab_type": "text",
        "id": "_k5J24tXXxj2"
      },
      "source": [
        "Create a Hash that provides the necessary attributes for a new Investigation.\n",
        "\n",
        "To associate the investigation, the relationships block needs populating.\n",
        "\n",
        "The structure of the JSON used to create or update items, corresponds the resource JSON produced through a GET."
      ]
    },
    {
      "cell_type": "code",
      "execution_count": null,
      "metadata": {
        "colab": {},
        "colab_type": "code",
        "id": "3fIwrTGSVSvO"
      },
      "outputs": [],
      "source": [
        "investigation = {}\n",
        "investigation['data'] = {}\n",
        "investigation['data']['type'] = 'investigations'\n",
        "investigation['data']['attributes'] = {}\n",
        "investigation['data']['attributes']['title'] = 'my lovely investigation'\n",
        "investigation['data']['attributes']['description'] = 'the description of my lovely investigation'\n",
        "investigation['data']['relationships'] = {}\n",
        "investigation['data']['relationships']['projects'] = {}\n",
        "investigation['data']['relationships']['projects']['data'] = [{'id' : containing_project_id, 'type' : 'projects'}]"
      ]
    },
    {
      "cell_type": "markdown",
      "metadata": {
        "colab_type": "text",
        "id": "cIm7zwfUY3_n"
      },
      "source": [
        "To create an item we do a POST to the root of that resources path. So for investigation it is https://sandbox9.fairdomhub.org/investigations\n",
        "\n",
        "There is no ID yet, as we don't know it until it is created.\n",
        "\n",
        "If the item is sucessfully created, the response contains the JSON of the newly created item. \n",
        "\n",
        "If not provided, the policy adopts the default - in this case private."
      ]
    },
    {
      "cell_type": "code",
      "execution_count": null,
      "metadata": {
        "colab": {},
        "colab_type": "code",
        "id": "Dw3AvwMTVjtt"
      },
      "outputs": [],
      "source": [
        "r = session.post(base_url + '/investigations', json=investigation)\n",
        "r.raise_for_status()\n",
        "populated_investigation = r.json()\n",
        "populated_investigation"
      ]
    },
    {
      "cell_type": "markdown",
      "metadata": {
        "colab_type": "text",
        "id": "m4gh_C_2ZnLx"
      },
      "source": [
        "This is the ID of the investigation which will be used to link to the Study"
      ]
    },
    {
      "cell_type": "code",
      "execution_count": null,
      "metadata": {
        "colab": {},
        "colab_type": "code",
        "id": "2-_EwmJEWBTh"
      },
      "outputs": [],
      "source": [
        "investigation_id = populated_investigation['data']['id']\n",
        "investigation_id"
      ]
    },
    {
      "cell_type": "markdown",
      "metadata": {
        "colab_type": "text",
        "id": "BzqUG7G7Z6Hn"
      },
      "source": [
        "The content for the Study. The relationships contains the link to the Investigation using the *investigation_id* determined earlier\n",
        "\n",
        "In this case a policy block has been provided, which makes the Study public, and Person 1 has been given manage rights."
      ]
    },
    {
      "cell_type": "code",
      "execution_count": null,
      "metadata": {
        "colab": {},
        "colab_type": "code",
        "id": "gsklzdjUXVi6"
      },
      "outputs": [],
      "source": [
        "study = {}\n",
        "study['data'] = {}\n",
        "study['data']['type'] = 'studies'\n",
        "study['data']['attributes'] = {}\n",
        "study['data']['attributes']['title'] = 'my lovely study'\n",
        "study['data']['attributes']['description'] = 'the description of lovely study'\n",
        "study['data']['attributes']['policy'] = {'access':'view', 'permissions': [{'resource': {'id': '1','type': 'people'},'access': 'manage'}]}\n",
        "study['data']['relationships'] = {}\n",
        "study['data']['relationships']['investigation'] = {}\n",
        "study['data']['relationships']['investigation']['data'] = {'id' : investigation_id, 'type' : 'investigations'}"
      ]
    },
    {
      "cell_type": "code",
      "execution_count": null,
      "metadata": {
        "colab": {},
        "colab_type": "code",
        "id": "DmIFkpSrX4be"
      },
      "outputs": [],
      "source": [
        "r = session.post(base_url + '/studies', json=study)\n",
        "r.raise_for_status()\n",
        "populated_study = r.json()\n",
        "populated_study"
      ]
    },
    {
      "cell_type": "markdown",
      "metadata": {
        "colab_type": "text",
        "id": "9nW22KRtbUdA"
      },
      "source": [
        "The id of the created Study, to link the Assay to."
      ]
    },
    {
      "cell_type": "code",
      "execution_count": null,
      "metadata": {
        "colab": {},
        "colab_type": "code",
        "id": "foFTBN0BbEwW"
      },
      "outputs": [],
      "source": [
        "study_id = populated_study['data']['id']"
      ]
    },
    {
      "cell_type": "markdown",
      "metadata": {
        "colab_type": "text",
        "id": "gi8hPjCKbmsc"
      },
      "source": [
        "Now create the Assay. The assay has some additional fields:\n",
        "\n",
        "\n",
        "\n",
        "*   assay_class - the class of the Assay. The key can be either:\n",
        "  * EXP - an experimental assay\n",
        "  * MODEL - a modelling analysis\n",
        "*   assay_type - the Assay Type from the [JERM Ontology](https://www.jermontology.org)\n",
        "*   technology_type - the Technology Type from the [JERM Ontology](https://www.jermontology.org)\n",
        "\n"
      ]
    },
    {
      "cell_type": "code",
      "execution_count": null,
      "metadata": {
        "colab": {},
        "colab_type": "code",
        "id": "nyl5T7NyamLS"
      },
      "outputs": [],
      "source": [
        "assay = {}\n",
        "assay['data'] = {}\n",
        "assay['data']['type'] = 'assays'\n",
        "assay['data']['attributes'] = {}\n",
        "assay['data']['attributes']['title'] = 'my lovely assay'\n",
        "assay['data']['attributes']['description'] = 'the description of lovely assay'\n",
        "assay['data']['attributes']['policy'] = {'access':'view', 'permissions': []}\n",
        "assay['data']['attributes']['assay_class'] = {'key' : 'EXP'}\n",
        "assay['data']['attributes']['assay_type'] = {'uri' : 'http://jermontology.org/ontology/JERMOntology#Metabolomics'}\n",
        "assay['data']['attributes']['technology_type'] = {'uri' : 'http://jermontology.org/ontology/JERMOntology#Electrophoresis'}\n",
        "assay['data']['relationships'] = {}\n",
        "assay['data']['relationships']['study'] = {}\n",
        "assay['data']['relationships']['study']['data'] = {'id' : study_id, 'type' : 'studies'}"
      ]
    },
    {
      "cell_type": "markdown",
      "metadata": {
        "colab_type": "text",
        "id": "zvrufaHfd2ym"
      },
      "source": [
        "Now create the Assay in the same with, with a POST"
      ]
    },
    {
      "cell_type": "code",
      "execution_count": null,
      "metadata": {
        "colab": {},
        "colab_type": "code",
        "id": "1d9UydN2d7J-"
      },
      "outputs": [],
      "source": [
        "r = session.post(base_url + '/assays', json=assay)\n",
        "r.raise_for_status()\n",
        "populated_assay = r.json()\n",
        "populated_assay"
      ]
    },
    {
      "cell_type": "code",
      "execution_count": null,
      "metadata": {
        "colab": {},
        "colab_type": "code",
        "id": "poCwog5Eewx6"
      },
      "outputs": [],
      "source": [
        "print(\"Assay ID: \" + populated_assay['data']['id'])"
      ]
    },
    {
      "cell_type": "markdown",
      "metadata": {
        "colab_type": "text",
        "id": "bL2x-QpmaOKs"
      },
      "source": [
        "Here we clean up and delete the created items. \n",
        "\n",
        "Items are deleted by sending a http DELETE to the resource url. They need to be deleted in reverse order else they will fail."
      ]
    },
    {
      "cell_type": "code",
      "execution_count": null,
      "metadata": {
        "colab": {},
        "colab_type": "code",
        "id": "3E9bPMAMgxJz"
      },
      "outputs": [],
      "source": [
        "\n",
        "\n",
        "assay_url = populated_assay['data']['links']['self']\n",
        "study_url = populated_study['data']['links']['self']\n",
        "investigation_url = populated_investigation['data']['links']['self']\n",
        "\n",
        "session.delete(base_url + assay_url)\n",
        "session.delete(base_url + study_url)\n",
        "session.delete(base_url + investigation_url)\n",
        "\n",
        "\"\"\"Close the HTTP **session**\"\"\"\n",
        "\n",
        "session.close()"
      ]
    },
    {
      "cell_type": "markdown",
      "metadata": {
        "colab_type": "text",
        "id": "sT4aIZ3ieojD"
      },
      "source": [
        "# Exercise 5\n",
        "\n",
        "\n",
        "\n",
        "*  Run the notebook using the user you created in the previous step\n",
        "*  Update the attributes, and change the titles for the Investigation, Study and Assay.\n",
        "*  Comment out the 3 delete steps at the end, and make a note of the resulting Assay ID. Check at https://sandbox9.fairdomhub.org/assays that it exists. \n",
        "\n"
      ]
    }
  ],
  "metadata": {
    "colab": {
      "collapsed_sections": [],
      "name": "05 Create Investigation, Study.ipynb",
      "private_outputs": true,
      "provenance": [],
      "version": "0.3.2"
    },
    "kernelspec": {
      "display_name": "Python 3.10.4 64-bit",
      "language": "python",
      "name": "python3"
    },
    "language_info": {
      "codemirror_mode": {
        "name": "ipython",
        "version": 3
      },
      "file_extension": ".py",
      "mimetype": "text/x-python",
      "name": "python",
      "nbconvert_exporter": "python",
      "pygments_lexer": "ipython3",
      "version": "3.10.4"
    },
    "vscode": {
      "interpreter": {
        "hash": "2db906ed3d279d9aab96dcbc9e86f3e800a16de74a7b32b237a08416bb5a6e21"
      }
    }
  },
  "nbformat": 4,
  "nbformat_minor": 0
}
