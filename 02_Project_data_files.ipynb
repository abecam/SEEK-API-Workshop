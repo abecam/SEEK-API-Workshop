{
 "cells": [
  {
   "cell_type": "markdown",
   "metadata": {
    "colab_type": "text",
    "id": "OhOD36r9EUdo"
   },
   "source": [
    "# 2 - Accessing Related Items through Relationships\n",
    "\n",
    "---\n",
    "\n"
   ]
  },
  {
   "cell_type": "code",
   "execution_count": null,
   "metadata": {
    "colab": {},
    "colab_type": "code",
    "id": "ry6UzSk1Yx10"
   },
   "outputs": [],
   "source": [
    "import requests\n",
    "import json\n",
    "import string\n",
    "\n",
    "# Importing the libraries we need to format the data in a more readable way. \n",
    "import pandas as pd\n",
    "from pandas import json_normalize"
   ]
  },
  {
   "cell_type": "code",
   "execution_count": null,
   "metadata": {
    "colab": {},
    "colab_type": "code",
    "id": "RdO2Ow8UZVJf"
   },
   "outputs": [],
   "source": [
    "base_url = 'https://www.fairdomhub.org'"
   ]
  },
  {
   "cell_type": "code",
   "execution_count": null,
   "metadata": {
    "colab": {},
    "colab_type": "code",
    "id": "yo-j406CZU8f"
   },
   "outputs": [],
   "source": [
    "def json_for_resource(type, id):    \n",
    "\n",
    "  headers = {\"Accept\": \"application/vnd.api+json\",\n",
    "           \"Accept-Charset\": \"ISO-8859-1\"}\n",
    "  r = requests.get(base_url + \"/\" + type + \"/\" + str(id), headers=headers)\n",
    "  r.raise_for_status()\n",
    "  return r.json()"
   ]
  },
  {
   "cell_type": "markdown",
   "metadata": {
    "colab_type": "text",
    "id": "EsPcgAu7EiOt"
   },
   "source": [
    "Fetches the JSON for Project 60\n",
    "\n",
    "Shows just the relationships block, rather than the full JSON, as this is what we are interested in here.\n",
    "\n",
    "Relationships are grouped by type. Each relationship has a '*data*' block, which provides an array of relationship resource.\n",
    "\n",
    "Each resource is described with an '*id*' and '*type*'.\n",
    "\n",
    "SEEK supports Restful Routes, each resource can be identified by:\n",
    "\n",
    "    https://<host>/<resource-type>/<id>\n",
    "    \n",
    "so,  *{'id': '18', 'type': 'institutions'}* would be https://fairdomhub.org/institutions/18\n",
    "\n",
    "**Note** that only visible resources are listed, any related items that are not visible due to sharing permissions, are omitted. (more in accessing as an authorized user later)."
   ]
  },
  {
   "cell_type": "code",
   "execution_count": null,
   "metadata": {
    "colab": {},
    "colab_type": "code",
    "id": "rTgP55PoZavm"
   },
   "outputs": [],
   "source": [
    "project_id = 60\n",
    "\n",
    "result = json_for_resource('projects',project_id)\n",
    "\n",
    "\n",
    "print(\"Project: \" + result['data']['attributes']['title'] + \"\\n\")\n",
    "\n",
    "result['data']['relationships']"
   ]
  },
  {
   "cell_type": "markdown",
   "metadata": {
    "colab_type": "text",
    "id": "SKI4ufNfF2F1"
   },
   "source": [
    "Here we iterate over each related data_file, and GET the resource JSON, and display the resulting id and title in a table"
   ]
  },
  {
   "cell_type": "code",
   "execution_count": null,
   "metadata": {
    "colab": {},
    "colab_type": "code",
    "id": "aXPRjrknab7P"
   },
   "outputs": [],
   "source": [
    "\n",
    "files = []\n",
    "type = 'data_files'\n",
    "\n",
    "for item in result['data']['relationships'][type]['data']:\n",
    "  j = json_for_resource(item['type'],item['id'])  \n",
    "  files.append({\n",
    "      'id':j['data']['id'],\n",
    "      'title':j['data']['attributes']['title'],      \n",
    "  })\n",
    "  \n",
    "print(str(len(files)) + \" found\") \n",
    "\n",
    "json_normalize(files)\n",
    "  "
   ]
  },
  {
   "cell_type": "markdown",
   "metadata": {
    "colab_type": "text",
    "id": "5n8ENGekGSmI"
   },
   "source": [
    "# Exercise 2\n",
    "\n",
    "\n",
    "\n",
    "  *   Run the notebook and familiarise yourself with each step.\n",
    "  *   Update to list the assays related to the project https://fairdomhub.org/projects/19\n",
    "  *   Update to list the models related to Natalie: https://fairdomhub.org/people/433\n",
    "\n",
    "\n"
   ]
  }
 ],
 "metadata": {
  "colab": {
   "collapsed_sections": [],
   "name": "02 Project data files.ipynb",
   "private_outputs": true,
   "provenance": [],
   "version": "0.3.2"
  },
  "kernelspec": {
   "display_name": "Python 3",
   "language": "python",
   "name": "python3"
  },
  "language_info": {
   "codemirror_mode": {
    "name": "ipython",
    "version": 3
   },
   "file_extension": ".py",
   "mimetype": "text/x-python",
   "name": "python",
   "nbconvert_exporter": "python",
   "pygments_lexer": "ipython3",
   "version": "3.7.5"
  }
 },
 "nbformat": 4,
 "nbformat_minor": 1
}
