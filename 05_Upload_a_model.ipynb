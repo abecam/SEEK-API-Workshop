{
 "cells": [
  {
   "cell_type": "markdown",
   "metadata": {
    "colab_type": "text",
    "id": "LuN06HCHo5JD"
   },
   "source": [
    "# 5 Uploading Model files\n",
    "\n",
    "Demonstrates uploading a file (rather than registering a URL). This requires multiple steps, first creating content blob \"placeholders\", and then updating the content blobs with the data to be uploaded."
   ]
  },
  {
   "cell_type": "code",
   "execution_count": null,
   "metadata": {
    "colab": {},
    "colab_type": "code",
    "id": "WgznBte9jT-K"
   },
   "outputs": [],
   "source": [
    "import requests\n",
    "import json\n",
    "import string\n",
    "\n",
    "import getpass\n",
    "\n",
    "import urllib.request"
   ]
  },
  {
   "cell_type": "code",
   "execution_count": null,
   "metadata": {
    "colab": {},
    "colab_type": "code",
    "id": "8IKxEL9Njg2f"
   },
   "outputs": [],
   "source": [
    "base_url = 'https://sandbox9.fairdomhub.org'"
   ]
  },
  {
   "cell_type": "code",
   "execution_count": null,
   "metadata": {
    "colab": {},
    "colab_type": "code",
    "id": "xJwC0C0wji3n"
   },
   "outputs": [],
   "source": [
    "headers = {\"Content-type\": \"application/vnd.api+json\",\n",
    "           \"Accept\": \"application/vnd.api+json\",\n",
    "           \"Accept-Charset\": \"ISO-8859-1\"}\n",
    "\n",
    "session = requests.Session()\n",
    "session.headers.update(headers)\n",
    "session.auth = (input('Username:'), getpass.getpass('Password'))"
   ]
  },
  {
   "cell_type": "code",
   "execution_count": null,
   "metadata": {
    "colab": {},
    "colab_type": "code",
    "id": "-cP9Te4_skfy"
   },
   "outputs": [],
   "source": [
    "def json_for_resource(type, id):    \n",
    "\n",
    "  \n",
    "  r = session.get(base_url + \"/\" + type + \"/\" + str(id), headers=headers)\n",
    "  \n",
    "  if (r.status_code != 200):\n",
    "    print(r.json())\n",
    "  \n",
    "  r.raise_for_status()\n",
    "  return r.json()"
   ]
  },
  {
   "cell_type": "code",
   "execution_count": null,
   "metadata": {
    "colab": {},
    "colab_type": "code",
    "id": "xmCnHZc5jrVF"
   },
   "outputs": [],
   "source": [
    "containing_project_id = 8\n"
   ]
  },
  {
   "cell_type": "markdown",
   "metadata": {
    "colab_type": "text",
    "id": "MVTl062tpNuY"
   },
   "source": [
    "This defines the placeholder information for the content blob. For now just the filename and mime type are provided."
   ]
  },
  {
   "cell_type": "code",
   "execution_count": null,
   "metadata": {
    "colab": {},
    "colab_type": "code",
    "id": "SscuQxmemHXE"
   },
   "outputs": [],
   "source": [
    "local_blob = {'original_filename' : 'Copasi_model_file.xml', 'content_type' : 'text/xml'}"
   ]
  },
  {
   "cell_type": "markdown",
   "metadata": {
    "colab_type": "text",
    "id": "zQIvfSVcqP2M"
   },
   "source": [
    "Set up the attributes for the data file and include the content blob details. This also shows the intent that content blobs will be provided. Although in this case there is only one content blob, for Data Files there could potentially be more which can be described."
   ]
  },
  {
   "cell_type": "code",
   "execution_count": null,
   "metadata": {
    "colab": {},
    "colab_type": "code",
    "id": "Q2gXy-NjlIt0"
   },
   "outputs": [],
   "source": [
    "model = {}\n",
    "model['data'] = {}\n",
    "model['data']['type'] = 'models'\n",
    "model['data']['attributes'] = {}\n",
    "model['data']['attributes']['title'] = 'Copasi model file'\n",
    "model['data']['attributes']['policy'] = {'access':'download'}\n",
    "model['data']['relationships'] = {}\n",
    "model['data']['relationships']['projects'] = {}\n",
    "model['data']['relationships']['projects']['data'] = [{'id' : containing_project_id, 'type' : 'projects'}]\n",
    "\n",
    "model['data']['attributes']['content_blobs'] = [local_blob]"
   ]
  },
  {
   "cell_type": "markdown",
   "metadata": {
    "colab_type": "text",
    "id": "iv5fTMlTrB28"
   },
   "source": [
    "Register the Data File. The resulting JSON contains the content blob element, but this is currently blank. "
   ]
  },
  {
   "cell_type": "code",
   "execution_count": null,
   "metadata": {
    "colab": {},
    "colab_type": "code",
    "id": "NfB5YCOdltZh"
   },
   "outputs": [],
   "source": [
    "r = session.post(base_url + '/models', json=model)\n",
    "r.raise_for_status()\n",
    "\n",
    "populated_data_file = r.json()\n",
    "populated_data_file"
   ]
  },
  {
   "cell_type": "markdown",
   "metadata": {
    "colab_type": "text",
    "id": "zmkoGcn0rKib"
   },
   "source": [
    "The entry is now visible in Seek, but there is no content yet.\n",
    "\n",
    "Now upload the file. Normally it would come from a local file, but we simulate this here by fetching from a URL (notice how the SEEK API is being used to fetch a data file!)\n",
    "\n",
    "*data* contains the data of a xml file\n",
    "\n"
   ]
  },
  {
   "cell_type": "code",
   "execution_count": null,
   "metadata": {
    "colab": {},
    "colab_type": "code",
    "id": "1_Z-8Xx8v8bV"
   },
   "outputs": [],
   "source": [
    "url = 'https://fairdomhub.org/data_files/2590/content_blobs/6413/download'\n",
    "response = urllib.request.urlopen(url)\n",
    "data = response.read()"
   ]
  },
  {
   "cell_type": "markdown",
   "metadata": {
    "colab_type": "text",
    "id": "qvtjDnB8rpIY"
   },
   "source": [
    "Now with a PUT update the content blob with the data. The url for the content blob was provided by the Data File creation JSON response.\n",
    "\n",
    "The *headers={'Content-Type': 'application/octet-stream'}* is currently required, otherwise in this case SEEK tries to process it as an invalid XML request resulting i an error."
   ]
  },
  {
   "cell_type": "code",
   "execution_count": null,
   "metadata": {
    "colab": {},
    "colab_type": "code",
    "id": "OjjtVRHrmvgh"
   },
   "outputs": [],
   "source": [
    "blob_url = populated_data_file['data']['attributes']['content_blobs'][0]['link']\n",
    "\n",
    "upload = session.put(blob_url, data=data, headers={'Content-Type': 'application/octet-stream'})\n",
    "upload.raise_for_status()\n"
   ]
  },
  {
   "cell_type": "markdown",
   "metadata": {
    "colab_type": "text",
    "id": "WYY7k1b0s83P"
   },
   "source": [
    "Fetch the JSON for the data file again, and look at the content blob attributes.\n",
    "\n",
    "The size and checksums have now been updated with the new content."
   ]
  },
  {
   "cell_type": "code",
   "execution_count": null,
   "metadata": {
    "colab": {},
    "colab_type": "code",
    "id": "gSQs5cMNazb3"
   },
   "outputs": [],
   "source": [
    "model_json = json_for_resource('models',populated_data_file['data']['id'])\n",
    "model_json['data']['attributes']['content_blobs']"
   ]
  },
  {
   "cell_type": "markdown",
   "metadata": {},
   "source": [
    "Delete the data file.  \n",
    "Response should be `200` - Success!"
   ]
  },
  {
   "cell_type": "code",
   "execution_count": null,
   "metadata": {},
   "outputs": [],
   "source": [
    "session.delete(base_url + populated_data_file['data']['links']['self'])"
   ]
  },
  {
   "cell_type": "markdown",
   "metadata": {
    "colab_type": "text",
    "id": "1B_1eDmVtPBm"
   },
   "source": [
    "# Exercice 7\n",
    "\n",
    "\n",
    "\n",
    "*   Update the notebook to register a Data File with 2 content blobs. You can use a URL to a resource on the web, or use the link to the FAIRDOM logo in the previous example\n",
    "* More details about the API can be found at https://docs.seek4science.org/help/user-guide/api.html which is constantly updated. This includes a link to the [API Overview](https://docs.seek4science.org/tech/api/index.html)\n",
    "\n"
   ]
  }
 ],
 "metadata": {
  "colab": {
   "name": "07 Upload a model.ipynb",
   "private_outputs": true,
   "provenance": [],
   "version": "0.3.2"
  },
  "kernelspec": {
   "language": "python",
   "name": "python3"
  },
  "language_info": {
   "codemirror_mode": {
    "name": "ipython",
    "version": 3
   },
   "file_extension": ".py",
   "mimetype": "text/x-python",
   "name": "python",
   "nbconvert_exporter": "python",
   "pygments_lexer": "ipython3",
   "version": "3.10.4"
  },
  "vscode": {
   "interpreter": {
    "hash": "2db906ed3d279d9aab96dcbc9e86f3e800a16de74a7b32b237a08416bb5a6e21"
   }
  }
 },
 "nbformat": 4,
 "nbformat_minor": 1
}
