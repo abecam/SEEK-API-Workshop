{
 "cells": [
  {
   "cell_type": "markdown",
   "metadata": {
    "colab_type": "text",
    "id": "2EQ437sMf2EC"
   },
   "source": [
    "# 6 - Registering a Data file (as URL)\n",
    "\n",
    "Demonstrates how to register a new Data file, in this case without upload but through a URL."
   ]
  },
  {
   "cell_type": "code",
   "execution_count": null,
   "metadata": {
    "colab": {},
    "colab_type": "code",
    "id": "YXQGJkLL3voe"
   },
   "outputs": [],
   "source": [
    "import requests\n",
    "import json\n",
    "import string\n",
    "\n",
    "import getpass"
   ]
  },
  {
   "cell_type": "code",
   "execution_count": null,
   "metadata": {
    "colab": {},
    "colab_type": "code",
    "id": "TzvCwvpP4oZ2"
   },
   "outputs": [],
   "source": [
    "base_url = 'https://sandbox2.fairdomhub.org'"
   ]
  },
  {
   "cell_type": "markdown",
   "metadata": {
    "colab_type": "text",
    "id": "CkfhmNlhgAcG"
   },
   "source": [
    "Set up the headers and authenticate just as in the earlier steps."
   ]
  },
  {
   "cell_type": "code",
   "execution_count": null,
   "metadata": {
    "colab": {},
    "colab_type": "code",
    "id": "t_5lQJUZ4rIM"
   },
   "outputs": [],
   "source": [
    "headers = {\"Content-type\": \"application/vnd.api+json\",\n",
    "           \"Accept\": \"application/vnd.api+json\",\n",
    "           \"Accept-Charset\": \"ISO-8859-1\"}\n",
    "\n",
    "session = requests.Session()\n",
    "session.headers.update(headers)\n",
    "session.auth = (input('Username:'), getpass.getpass('Password'))"
   ]
  },
  {
   "cell_type": "markdown",
   "metadata": {
    "colab_type": "text",
    "id": "tsehXwHfgFmV"
   },
   "source": [
    "Define the projects id."
   ]
  },
  {
   "cell_type": "code",
   "execution_count": null,
   "metadata": {
    "colab": {},
    "colab_type": "code",
    "id": "zx-8IEVm4s7T"
   },
   "outputs": [],
   "source": [
    "containing_project_id = 8"
   ]
  },
  {
   "cell_type": "markdown",
   "metadata": {
    "colab_type": "text",
    "id": "-NxP3BQigouR"
   },
   "source": [
    "The general data_file JSON structure is built as a Hash. In this case, the policy says that anybody can download.\n",
    "\n",
    "The license is set as [Creative Commons Attribution 4.0](https://creativecommons.org/licenses/by/4.0/). The list of available licenses can be found in the SEEK [API Overview](https://docs.seek4science.org/tech/api/index.html)"
   ]
  },
  {
   "cell_type": "code",
   "execution_count": null,
   "metadata": {
    "colab": {},
    "colab_type": "code",
    "id": "VSZq69Ty6Mmp"
   },
   "outputs": [],
   "source": [
    "data_file = {}\n",
    "data_file['data'] = {}\n",
    "data_file['data']['type'] = 'data_files'\n",
    "data_file['data']['attributes'] = {}\n",
    "data_file['data']['attributes']['title'] = 'my lovely datafile'\n",
    "data_file['data']['attributes']['license'] = 'CC-BY-4.0'\n",
    "data_file['data']['attributes']['policy'] = {'access':'download'}\n",
    "data_file['data']['relationships'] = {}\n",
    "data_file['data']['relationships']['projects'] = {}\n",
    "data_file['data']['relationships']['projects']['data'] = [{'id' : containing_project_id, 'type' : 'projects'}]"
   ]
  },
  {
   "cell_type": "markdown",
   "metadata": {
    "colab_type": "text",
    "id": "u9LCZHdrhg61"
   },
   "source": [
    "We describe a Content Blob just as it is was described in a earlier step. In this case we use the url key, and point to an available file (not webpage). In this case a copy of the FAIRDOM logo in our Github repository. A custom filename has also been provided, without this the filename would be determined from the link."
   ]
  },
  {
   "cell_type": "code",
   "execution_count": null,
   "metadata": {
    "colab": {},
    "colab_type": "code",
    "id": "youDMBU8gTT7"
   },
   "outputs": [],
   "source": [
    "remote_blob = {'url' : 'https://github.com/seek4science/seek/raw/master/app/assets/images/logos/fairdom-logo.png', 'original_filename':'logo.png'}\n",
    "data_file['data']['attributes']['content_blobs'] = [remote_blob]"
   ]
  },
  {
   "cell_type": "markdown",
   "metadata": {
    "colab_type": "text",
    "id": "Am4cIzdeh__B"
   },
   "source": [
    "The data file and content blob is registered in one step with a POST to the data_files root."
   ]
  },
  {
   "cell_type": "code",
   "execution_count": null,
   "metadata": {
    "colab": {},
    "colab_type": "code",
    "id": "lAqfcAx27HD0"
   },
   "outputs": [],
   "source": [
    "r = session.post(base_url + '/data_files', json=data_file)\n",
    "r.raise_for_status()"
   ]
  },
  {
   "cell_type": "markdown",
   "metadata": {
    "colab_type": "text",
    "id": "X-n9FFeqiVd-"
   },
   "source": [
    "The resulting JSON should provide the details about the created Data file. Note that in the content blob details, the size and content_type have automatically been determined by inspecting the URL (a HEAD request is used)."
   ]
  },
  {
   "cell_type": "code",
   "execution_count": null,
   "metadata": {
    "colab": {},
    "colab_type": "code",
    "id": "lNPqa6-V7JML"
   },
   "outputs": [],
   "source": [
    "populated_data_file = r.json()\n",
    "populated_data_file"
   ]
  },
  {
   "cell_type": "markdown",
   "metadata": {},
   "source": [
    "Check content by downloading the image with the link provided."
   ]
  },
  {
   "cell_type": "code",
   "execution_count": null,
   "metadata": {},
   "outputs": [],
   "source": [
    "image_url = populated_data_file['data']['attributes']['content_blobs'][0]['link'] + '/download'\n",
    "from IPython.display import Image\n",
    "from IPython.core.display import HTML \n",
    "Image(url= image_url)"
   ]
  },
  {
   "cell_type": "markdown",
   "metadata": {},
   "source": [
    "Delete the data file.  \n",
    "Response should be `200` - Success!"
   ]
  },
  {
   "cell_type": "code",
   "execution_count": null,
   "metadata": {},
   "outputs": [],
   "source": [
    "session.delete(base_url + populated_data_file['data']['links']['self'])"
   ]
  },
  {
   "cell_type": "markdown",
   "metadata": {
    "colab_type": "text",
    "id": "7jWCcSDsk5wt"
   },
   "source": [
    "# Exercise 6\n",
    "\n",
    "\n",
    "\n",
    "*  Find a URL to a resource online. This can be a picture on a website or a raw file in github. Update the data file to use that URL"
   ]
  }
 ],
 "metadata": {
  "colab": {
   "collapsed_sections": [],
   "name": "06 Register a Data file.ipynb",
   "private_outputs": true,
   "provenance": [],
   "version": "0.3.2"
  },
  "kernelspec": {
   "display_name": "Python 3",
   "language": "python",
   "name": "python3"
  },
  "language_info": {
   "codemirror_mode": {
    "name": "ipython",
    "version": 3
   },
   "file_extension": ".py",
   "mimetype": "text/x-python",
   "name": "python",
   "nbconvert_exporter": "python",
   "pygments_lexer": "ipython3",
   "version": "3.7.5"
  }
 },
 "nbformat": 4,
 "nbformat_minor": 1
}
