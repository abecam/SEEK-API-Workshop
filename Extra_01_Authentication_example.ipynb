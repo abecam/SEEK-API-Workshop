{
  "cells": [
    {
      "cell_type": "markdown",
      "metadata": {
        "colab_type": "text",
        "id": "JHKtr8pkN4Vs"
      },
      "source": [
        "# 4 Authentication and describing access Policies\n",
        "\n",
        "So far all API access have been http GETs with anonymous (not logged in) access.\n",
        "\n",
        "We will now look at authenticating, to access both hidden items and create things."
      ]
    },
    {
      "cell_type": "code",
      "execution_count": null,
      "metadata": {
        "colab": {},
        "colab_type": "code",
        "id": "oNuMV_-H_x8d"
      },
      "outputs": [],
      "source": [
        "import requests\n",
        "import json\n",
        "import string\n",
        "\n",
        "import getpass"
      ]
    },
    {
      "cell_type": "markdown",
      "metadata": {
        "colab_type": "text",
        "id": "qYY8jK5uOp_y"
      },
      "source": [
        "The base_url now points to a special SEEK instance that we can do what we like with."
      ]
    },
    {
      "cell_type": "code",
      "execution_count": null,
      "metadata": {
        "colab": {},
        "colab_type": "code",
        "id": "K6nMwdux__GM"
      },
      "outputs": [],
      "source": [
        "base_url = 'https://sandbox9.fairdomhub.org'"
      ]
    },
    {
      "cell_type": "markdown",
      "metadata": {
        "colab_type": "text",
        "id": "dd9DMoN2O8zY"
      },
      "source": [
        "the SEEK currently uses HTTP Authentication for authorization. This can be handled in Python using a requests Session object, through which all requests are made. This session also holds reusable details like the headers.\n",
        "\n",
        "The API supports Basic Authentication, OAuth and API Tokens: https://fairdomhub.org/api#section/Authentication"
      ]
    },
    {
      "cell_type": "code",
      "execution_count": null,
      "metadata": {
        "colab": {},
        "colab_type": "code",
        "id": "5xYqthrVAvbW"
      },
      "outputs": [],
      "source": [
        "headers = {\"Accept\": \"application/vnd.api+json\",\n",
        "           \"Accept-Charset\": \"ISO-8859-1\"}\n",
        "\n",
        "session = requests.Session()\n",
        "session.headers.update(headers)\n",
        "session.auth = (input('Username:'), getpass.getpass('Password'))"
      ]
    },
    {
      "cell_type": "code",
      "execution_count": null,
      "metadata": {
        "colab": {},
        "colab_type": "code",
        "id": "IshgEBFTABh7"
      },
      "outputs": [],
      "source": [
        "def json_for_resource(type, id):    \n",
        "\n",
        "  \n",
        "  r = session.get(base_url + \"/\" + type + \"/\" + str(id), headers=headers)\n",
        "  \n",
        "  if (r.status_code != 200):\n",
        "    print(r.json())\n",
        "  \n",
        "  r.raise_for_status()\n",
        "  return r.json()"
      ]
    },
    {
      "cell_type": "markdown",
      "metadata": {
        "colab_type": "text",
        "id": "YGx8nnHXOvR5"
      },
      "source": [
        "Without authenticating an error will occur:\n",
        "\n",
        "- 403 Client Error. 403 is the standard HTTP CODE for unauthorized access.\n",
        "\n",
        "The JSON response will also provide error details.\n",
        "\n",
        "Once authenticated you should see the title of the file."
      ]
    },
    {
      "cell_type": "code",
      "execution_count": null,
      "metadata": {
        "colab": {},
        "colab_type": "code",
        "id": "fuOfHL1MAHH4"
      },
      "outputs": [],
      "source": [
        "data_file_id = 1\n",
        "\n",
        "result = json_for_resource('data_files',data_file_id)\n",
        "\n",
        "title = result['data']['attributes']['title']\n",
        "\n",
        "title"
      ]
    },
    {
      "cell_type": "markdown",
      "metadata": {
        "colab_type": "text",
        "id": "96R8ZtSPQ7ak"
      },
      "source": [
        "The attributes of the data file.\n",
        "\n",
        "**Note** that there is a new 'policy' block."
      ]
    },
    {
      "cell_type": "code",
      "execution_count": null,
      "metadata": {
        "colab": {},
        "colab_type": "code",
        "id": "MP7Ku5dgBy7o"
      },
      "outputs": [],
      "source": [
        "result['data']['attributes']"
      ]
    },
    {
      "cell_type": "markdown",
      "metadata": {
        "colab_type": "text",
        "id": "xvtMc56lRVZI"
      },
      "source": [
        "The policy block is only visible if you have 'manage' rights to a resource. It contains information about the sharing permissions.\n",
        "\n",
        "\n",
        "\n",
        "*   Possible access rights are:\n",
        "  * no_access\n",
        "  * view\n",
        "  * download\n",
        "  * edit\n",
        "  * manage\n",
        "*  The top level 'access' attribute indicates access for unregistered anonymous users (Public)\n",
        "*  The permissions lists special access to specific resources - Programme, Project, Instituion or Person. Programme, Project, Institution corresponds to whether yu are a member of that group.\n",
        "\n",
        "In this case:\n",
        "\n",
        "\n",
        "\n",
        "*   There is no access to all anonymous users\n",
        "*   Members of Project 1 https://sandbox3.fairdomhub.org/projects/1 can download the item\n",
        "*  Person 1 https://sandbox3.fairdomhub.org/people/1 has been granted special manage rights\n",
        "\n",
        "The submitter of the item isn't listed, but always has manage rights.\n",
        "\n",
        "\n",
        "\n"
      ]
    },
    {
      "cell_type": "code",
      "execution_count": null,
      "metadata": {
        "colab": {},
        "colab_type": "code",
        "id": "jmbgrNPsCQv8"
      },
      "outputs": [],
      "source": [
        "result['data']['attributes']['policy']"
      ]
    },
    {
      "cell_type": "markdown",
      "metadata": {
        "colab_type": "text",
        "id": "xgdpZ4XqTFPl"
      },
      "source": [
        "# Exercise 4\n",
        "\n",
        "\n",
        "*  Run the example using your login and password\n",
        "\n"
      ]
    }
  ],
  "metadata": {
    "colab": {
      "collapsed_sections": [],
      "name": "04 Authentication example.ipynb",
      "private_outputs": true,
      "provenance": [],
      "version": "0.3.2"
    },
    "kernelspec": {
      "display_name": "Python 3.10.4 64-bit",
      "language": "python",
      "name": "python3"
    },
    "language_info": {
      "codemirror_mode": {
        "name": "ipython",
        "version": 3
      },
      "file_extension": ".py",
      "mimetype": "text/x-python",
      "name": "python",
      "nbconvert_exporter": "python",
      "pygments_lexer": "ipython3",
      "version": "3.10.4"
    },
    "vscode": {
      "interpreter": {
        "hash": "2db906ed3d279d9aab96dcbc9e86f3e800a16de74a7b32b237a08416bb5a6e21"
      }
    }
  },
  "nbformat": 4,
  "nbformat_minor": 0
}
